{
 "cells": [
  {
   "cell_type": "markdown",
   "metadata": {},
   "source": [
    "I just wrote some diagnostic scripts for working with Capital One APIs. Allows us to get a quick peek at what we have put in the Capital One database.\n",
    "Sean"
   ]
  },
  {
   "cell_type": "code",
   "execution_count": 1,
   "metadata": {
    "collapsed": false
   },
   "outputs": [
    {
     "name": "stdout",
     "output_type": "stream",
     "text": [
      "Status code 200\n"
     ]
    }
   ],
   "source": [
    "# Getting list of customers\n",
    "import requests, json\n",
    "apiKey = 'b44062f25a859f93cab578edb3508c8d'\n",
    "customers = requests.get('http://api.reimaginebanking.com/customers?key=b44062f25a859f93cab578edb3508c8d')\n",
    "print \"Status code\", customers.status_code\n",
    "customers = customers.json()"
   ]
  },
  {
   "cell_type": "code",
   "execution_count": 2,
   "metadata": {
    "collapsed": false
   },
   "outputs": [
    {
     "name": "stdout",
     "output_type": "stream",
     "text": [
      "# List of customers:\n",
      "string string 5882e5bf1756fc834d8eb687\n",
      "Nicky Lim 5882e5e81756fc834d8eb688\n",
      "hello asdasd 5882e6881756fc834d8eb689\n",
      "College Student 5883836a1756fc834d8eb76f\n",
      "Earl Zavala 588391861756fc834d8eb7e3\n",
      "Peter Guenther 588392431756fc834d8eb7e5\n",
      "Rebecca Jones 588393581756fc834d8eb7e6\n",
      "Angela Daniels 588393b01756fc834d8eb7e7\n"
     ]
    }
   ],
   "source": [
    "print \"# List of customers:\"\n",
    "for i in customers:\n",
    "    print i['first_name'], i['last_name'], i['_id']"
   ]
  },
  {
   "cell_type": "code",
   "execution_count": 3,
   "metadata": {
    "collapsed": false
   },
   "outputs": [
    {
     "name": "stdout",
     "output_type": "stream",
     "text": [
      "Account for customer string string\n",
      "Account for customer Nicky Lim\n",
      "Account for customer hello asdasd\n",
      "Account for customer College Student\n",
      "- Daily purchases $ 20000 Checking\n",
      "- Daily purchases for College Student $ 20000 Checking\n",
      "- Deposits $ 10000 Savings\n",
      "- Deposits $ 10000 Savings\n",
      "- For extravagant purchases $ 7000 Credit Card\n",
      "Account for customer Earl Zavala\n",
      "- Daily purchases $ 19360 Checking\n",
      "- Daily purchases $ 21000 Checking\n",
      "- Daily purchases $ 34347 Checking\n",
      "Account for customer Peter Guenther\n",
      "Account for customer Rebecca Jones\n",
      "Account for customer Angela Daniels\n"
     ]
    }
   ],
   "source": [
    "# Get list of accounts\n",
    "for i in customers:\n",
    "    customerId = str(i['_id'])\n",
    "    print 'Account(s) for customer', i['first_name'], i['last_name']\n",
    "    url = 'http://api.reimaginebanking.com/customers/{}/accounts?key={}'.format(customerId,apiKey)\n",
    "    \n",
    "    accounts = requests.get(url)\n",
    "    for i in accounts.json():\n",
    "        print '-', i['nickname'], '$', i['balance'], i['type']"
   ]
  },
  {
   "cell_type": "code",
   "execution_count": null,
   "metadata": {
    "collapsed": true
   },
   "outputs": [],
   "source": []
  }
 ],
 "metadata": {
  "anaconda-cloud": {},
  "kernelspec": {
   "display_name": "Python [conda env:python2]",
   "language": "python",
   "name": "conda-env-python2-py"
  },
  "language_info": {
   "codemirror_mode": {
    "name": "ipython",
    "version": 2
   },
   "file_extension": ".py",
   "mimetype": "text/x-python",
   "name": "python",
   "nbconvert_exporter": "python",
   "pygments_lexer": "ipython2",
   "version": "2.7.12"
  }
 },
 "nbformat": 4,
 "nbformat_minor": 1
}
