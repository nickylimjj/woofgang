{
 "cells": [
  {
   "cell_type": "code",
   "execution_count": null,
   "metadata": {
    "collapsed": false
   },
   "outputs": [],
   "source": [
    "import numpy as np\n",
    "import scipy as sp\n",
    "import scipy.stats as st\n",
    "import pymongo\n",
    "import datetime\n",
    "import pprint\n",
    "from bson.objectid import ObjectId\n",
    "print('modules imported')"
   ]
  },
  {
   "cell_type": "code",
   "execution_count": null,
   "metadata": {
    "collapsed": true
   },
   "outputs": [],
   "source": [
    "# function to query by ObjectId\n",
    "def get(post_id):\n",
    "    # Convert from string to ObjectId:\n",
    "    document = client.db.collection.find_one({'_id': ObjectId(post_id)})"
   ]
  },
  {
   "cell_type": "code",
   "execution_count": null,
   "metadata": {
    "collapsed": false
   },
   "outputs": [],
   "source": [
    "# connecting to mongo database\n",
    "from pymongo import MongoClient\n",
    "client = MongoClient()\n",
    "db = client['test_database']\n",
    "collection = db.test_collection\n",
    "\n",
    "posts = db.posts\n",
    "for post in posts.find():\n",
    "    pprint.pprint(post)"
   ]
  },
  {
   "cell_type": "code",
   "execution_count": null,
   "metadata": {
    "collapsed": false
   },
   "outputs": [],
   "source": [
    "# posting to db\n",
    "post = {\"author\": \"Mike\",\n",
    "         \"text\": \"My first blog post!\",\n",
    "         \"tags\": [\"mongodb\", \"python\", \"pymongo\"],\n",
    "         \"date\": datetime.datetime.utcnow()}\n",
    "post_id = posts.insert_one(post).inserted_id\n",
    "print('unique post id',post_id)"
   ]
  },
  {
   "cell_type": "code",
   "execution_count": null,
   "metadata": {
    "collapsed": false
   },
   "outputs": [],
   "source": [
    "db.collection_names(include_system_collections=False)\n",
    "# query for one\n",
    "pprint.pprint(posts.find_one({\"author\":\"Nicky\"}))"
   ]
  },
  {
   "cell_type": "code",
   "execution_count": null,
   "metadata": {
    "collapsed": false
   },
   "outputs": [],
   "source": [
    "for post in posts.find():\n",
    "    pprint.pprint(post['author'])\n",
    "posts.find_one({'author':'Mike'})"
   ]
  },
  {
   "cell_type": "code",
   "execution_count": null,
   "metadata": {
    "collapsed": false
   },
   "outputs": [],
   "source": [
    "import requests, json\n",
    "\n",
    "apiKey = 'b44062f25a859f93cab578edb3508c8d'\n",
    "\n",
    "# getting accounts\n",
    "url_acc = 'http://api.reimaginebanking.com/enterprise/accounts?key={}'.format(apiKey)\n",
    "# getting customers\n",
    "url_cust = 'http://api.reimaginebanking.com/enterprise/customers?key={}'.format(apiKey)\n",
    "\n",
    "accounts = requests.get(url_acc) \n",
    "accounts = accounts.json()\n",
    "customers = requests.get(url_cust).json()\n"
   ]
  },
  {
   "cell_type": "code",
   "execution_count": null,
   "metadata": {
    "collapsed": false,
    "scrolled": true
   },
   "outputs": [],
   "source": [
    "# all accounts\n",
    "#print(len(customers))\n",
    "#print(customers)"
   ]
  },
  {
   "cell_type": "code",
   "execution_count": null,
   "metadata": {
    "collapsed": false
   },
   "outputs": [],
   "source": [
    "# enterprise data set\n",
    "print('Number of customers:', len(customers['results']))\n",
    "\n",
    "keys = customers['results'][0].keys()\n",
    "for key in keys:\n",
    "    print(key)\n"
   ]
  },
  {
   "cell_type": "code",
   "execution_count": null,
   "metadata": {
    "collapsed": true
   },
   "outputs": [],
   "source": [
    "# bulk insert into mongodb\n"
   ]
  }
 ],
 "metadata": {
  "kernelspec": {
   "display_name": "Python [default]",
   "language": "python",
   "name": "python3"
  },
  "language_info": {
   "codemirror_mode": {
    "name": "ipython",
    "version": 3
   },
   "file_extension": ".py",
   "mimetype": "text/x-python",
   "name": "python",
   "nbconvert_exporter": "python",
   "pygments_lexer": "ipython3",
   "version": "3.5.2"
  }
 },
 "nbformat": 4,
 "nbformat_minor": 1
}
